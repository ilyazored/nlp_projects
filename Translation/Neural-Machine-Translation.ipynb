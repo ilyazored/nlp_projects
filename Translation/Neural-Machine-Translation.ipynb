{
  "cells": [
    {
      "cell_type": "code",
      "execution_count": 1,
      "metadata": {
        "id": "d41bcbba"
      },
      "outputs": [],
      "source": [
        "import string\n",
        "import re\n",
        "import numpy as np\n",
        "import pandas as pd\n",
        "import matplotlib.pyplot as plt\n",
        "from numpy import array, argmax, random, take\n",
        "from tensorflow.keras.models import Model\n",
        "from tensorflow.keras.layers import Input, Embedding, LSTM, Dense, Bidirectional, Concatenate, Dropout, LayerNormalization, RepeatVector\n",
        "from tensorflow.keras.preprocessing.text import Tokenizer\n",
        "from tensorflow.keras.preprocessing.sequence import pad_sequences\n",
        "from tensorflow.keras.callbacks import ModelCheckpoint\n",
        "from tensorflow.keras import optimizers"
      ]
    },
    {
      "cell_type": "code",
      "execution_count": 2,
      "metadata": {
        "id": "f1e3f2d4"
      },
      "outputs": [],
      "source": [
        "# Open the deu file and read the sentence pairs into an array\n",
        "deu_eng = []\n",
        "with open(\"deu.txt\", \"r\", encoding=\"utf-8\") as file:\n",
        "    for line in file:\n",
        "        parts = line.strip().split(\"\\t\")  # Split by tab and remove any extra whitespace\n",
        "        source_sentence = parts[0]\n",
        "        target_sentence = parts[1]\n",
        "        deu_eng.append([source_sentence, target_sentence])  # Store as a pair of strings"
      ]
    },
    {
      "cell_type": "code",
      "execution_count": 3,
      "metadata": {
        "colab": {
          "base_uri": "https://localhost:8080/"
        },
        "id": "408f3c7b",
        "outputId": "2fbc225c-8a9b-4c5e-c47d-581db180a8e5"
      },
      "outputs": [
        {
          "output_type": "execute_result",
          "data": {
            "text/plain": [
              "(50000, 2)"
            ]
          },
          "metadata": {},
          "execution_count": 3
        }
      ],
      "source": [
        "deu_eng = array(deu_eng)\n",
        "deu_eng = deu_eng[:50000,:]\n",
        "deu_eng.shape"
      ]
    },
    {
      "cell_type": "code",
      "execution_count": 4,
      "metadata": {
        "colab": {
          "base_uri": "https://localhost:8080/"
        },
        "id": "a7f5633e",
        "outputId": "3e500fe2-875f-4e09-8ee3-3b0422951ab7"
      },
      "outputs": [
        {
          "output_type": "execute_result",
          "data": {
            "text/plain": [
              "array([['Go.', 'Geh.'],\n",
              "       ['Hi.', 'Hallo!'],\n",
              "       ['Hi.', 'Grüß Gott!'],\n",
              "       ...,\n",
              "       ['I heard you did well.',\n",
              "        'Ich habe gehört, Sie haben gut abgeschnitten.'],\n",
              "       ['I heard you laughing.', 'Ich habe dich lachen gehört.'],\n",
              "       ['I heard you laughing.', 'Ich habe euch lachen gehört.']],\n",
              "      dtype='<U537')"
            ]
          },
          "metadata": {},
          "execution_count": 4
        }
      ],
      "source": [
        "deu_eng"
      ]
    },
    {
      "cell_type": "code",
      "execution_count": 5,
      "metadata": {
        "colab": {
          "base_uri": "https://localhost:8080/"
        },
        "id": "0fa70407",
        "outputId": "6421c729-a410-4b6f-b8f0-2c8557d17ea0"
      },
      "outputs": [
        {
          "output_type": "execute_result",
          "data": {
            "text/plain": [
              "array([['go', 'geh'],\n",
              "       ['hi', 'hallo'],\n",
              "       ['hi', 'grüß gott'],\n",
              "       ...,\n",
              "       ['i heard you did well',\n",
              "        'ich habe gehört sie haben gut abgeschnitten'],\n",
              "       ['i heard you laughing', 'ich habe dich lachen gehört'],\n",
              "       ['i heard you laughing', 'ich habe euch lachen gehört']],\n",
              "      dtype='<U537')"
            ]
          },
          "metadata": {},
          "execution_count": 5
        }
      ],
      "source": [
        "# Remove punctuation and convert to lowercase\n",
        "deu_eng[:, 0] = [s.translate(str.maketrans('', '', string.punctuation)).lower() for s in deu_eng[:, 0]]\n",
        "deu_eng[:, 1] = [s.translate(str.maketrans('', '', string.punctuation)).lower() for s in deu_eng[:, 1]]\n",
        "deu_eng"
      ]
    },
    {
      "cell_type": "code",
      "execution_count": 6,
      "metadata": {
        "colab": {
          "base_uri": "https://localhost:8080/"
        },
        "id": "79f644cc",
        "outputId": "ecdb8334-22e6-4fb3-9bd2-43720a64ee3a"
      },
      "outputs": [
        {
          "output_type": "execute_result",
          "data": {
            "text/plain": [
              "(49752, 2)"
            ]
          },
          "metadata": {},
          "execution_count": 6
        }
      ],
      "source": [
        "# Remove duplicate rows\n",
        "deu_eng = np.unique(deu_eng, axis=0)\n",
        "deu_eng.shape"
      ]
    },
    {
      "cell_type": "code",
      "execution_count": 7,
      "metadata": {
        "colab": {
          "base_uri": "https://localhost:8080/",
          "height": 452
        },
        "id": "5e66b449",
        "outputId": "bdfabe7c-1d42-4eb7-84ee-9c2f64fb9aa9"
      },
      "outputs": [
        {
          "output_type": "display_data",
          "data": {
            "text/plain": [
              "<Figure size 640x480 with 2 Axes>"
            ],
            "image/png": "[encoded data removed]"
          },
          "metadata": {}
        }
      ],
      "source": [
        "# empty lists\n",
        "eng_l = []\n",
        "deu_l = []\n",
        "\n",
        "# populate the lists with sentence lengths\n",
        "for i in deu_eng[:,0]:\n",
        "      eng_l.append(len(i.split()))\n",
        "\n",
        "for i in deu_eng[:,1]:\n",
        "      deu_l.append(len(i.split()))\n",
        "\n",
        "length_df = pd.DataFrame({'eng':eng_l, 'deu':deu_l})\n",
        "\n",
        "length_df.hist(bins = 30)\n",
        "plt.show()"
      ]
    },
    {
      "cell_type": "code",
      "execution_count": 8,
      "metadata": {
        "colab": {
          "base_uri": "https://localhost:8080/"
        },
        "id": "3955f642",
        "outputId": "67579464-55bd-46bc-bdf0-20465029f9c9"
      },
      "outputs": [
        {
          "output_type": "stream",
          "name": "stdout",
          "text": [
            "English - Max Length: 6, Min Length: 1, Most Frequent Length: (4, 21394)\n",
            "German - Max Length: 12, Min Length: 1, Most Frequent Length: (4, 20950)\n"
          ]
        }
      ],
      "source": [
        "from collections import Counter\n",
        "\n",
        "# Calculate max, min, and most frequent lengths\n",
        "eng_max = max(eng_l)\n",
        "eng_min = min(eng_l)\n",
        "eng_most_common_length = Counter(eng_l).most_common(1)[0]  # (length, count)\n",
        "\n",
        "deu_max = max(deu_l)\n",
        "deu_min = min(deu_l)\n",
        "deu_most_common_length = Counter(deu_l).most_common(1)[0]  # (length, count)\n",
        "\n",
        "print(f\"English - Max Length: {eng_max}, Min Length: {eng_min}, Most Frequent Length: {eng_most_common_length}\")\n",
        "print(f\"German - Max Length: {deu_max}, Min Length: {deu_min}, Most Frequent Length: {deu_most_common_length}\")"
      ]
    },
    {
      "cell_type": "code",
      "execution_count": 9,
      "metadata": {
        "id": "47d8ea21"
      },
      "outputs": [],
      "source": [
        "# function to build a tokenizer\n",
        "def tokenization(lines):\n",
        "    tokenizer = Tokenizer()\n",
        "    tokenizer.fit_on_texts(lines)\n",
        "    return tokenizer"
      ]
    },
    {
      "cell_type": "code",
      "execution_count": 10,
      "metadata": {
        "colab": {
          "base_uri": "https://localhost:8080/"
        },
        "id": "8ac00799",
        "outputId": "74d60c06-d2cd-4fda-f08a-af96676499a3"
      },
      "outputs": [
        {
          "output_type": "stream",
          "name": "stdout",
          "text": [
            "English Vocabulary Size: 6098\n"
          ]
        }
      ],
      "source": [
        "# prepare english tokenizer\n",
        "eng_tokenizer = tokenization(deu_eng[:, 0])\n",
        "eng_vocab_size = len(eng_tokenizer.word_index) + 1\n",
        "\n",
        "eng_length = 8\n",
        "print('English Vocabulary Size: %d' % eng_vocab_size)"
      ]
    },
    {
      "cell_type": "code",
      "execution_count": 11,
      "metadata": {
        "colab": {
          "base_uri": "https://localhost:8080/"
        },
        "id": "8aea0b0e",
        "outputId": "e549e2eb-c294-447d-c2b9-d8d7182cabf4"
      },
      "outputs": [
        {
          "output_type": "stream",
          "name": "stdout",
          "text": [
            "Deutch Vocabulary Size: 10071\n"
          ]
        }
      ],
      "source": [
        "# prepare Deutch tokenizer\n",
        "deu_tokenizer = tokenization(deu_eng[:, 1])\n",
        "deu_vocab_size = len(deu_tokenizer.word_index) + 1\n",
        "\n",
        "deu_length = 8\n",
        "print('Deutch Vocabulary Size: %d' % deu_vocab_size)"
      ]
    },
    {
      "cell_type": "code",
      "execution_count": 12,
      "metadata": {
        "id": "9701f652"
      },
      "outputs": [],
      "source": [
        "# encode and pad sequences\n",
        "def encode_sequences(tokenizer, length, lines):\n",
        "    # integer encode sequences\n",
        "    seq = tokenizer.texts_to_sequences(lines)\n",
        "    # pad sequences with 0 values\n",
        "    seq = pad_sequences(seq, maxlen=length, padding='post')\n",
        "    return seq"
      ]
    },
    {
      "cell_type": "code",
      "execution_count": 13,
      "metadata": {
        "id": "5de5ada0"
      },
      "outputs": [],
      "source": [
        "from sklearn.model_selection import train_test_split\n",
        "\n",
        "# split data into train and test set\n",
        "train, test = train_test_split(deu_eng, test_size=0.2, random_state = 12)"
      ]
    },
    {
      "cell_type": "code",
      "execution_count": 14,
      "metadata": {
        "id": "8550aff8"
      },
      "outputs": [],
      "source": [
        "# prepare training data\n",
        "trainX = encode_sequences(deu_tokenizer, deu_length, train[:, 1])\n",
        "trainY = encode_sequences(eng_tokenizer, eng_length, train[:, 0])\n",
        "\n",
        "# prepare validation data\n",
        "testX = encode_sequences(deu_tokenizer, deu_length, test[:, 1])\n",
        "testY = encode_sequences(eng_tokenizer, eng_length, test[:, 0])"
      ]
    },
    {
      "cell_type": "code",
      "execution_count": 15,
      "metadata": {
        "colab": {
          "base_uri": "https://localhost:8080/"
        },
        "id": "fab064ec",
        "outputId": "f141aed3-bfd5-4894-ff50-5f96850c69cc"
      },
      "outputs": [
        {
          "output_type": "execute_result",
          "data": {
            "text/plain": [
              "array([   2,   67, 4539,    0,    0,    0,    0,    0], dtype=int32)"
            ]
          },
          "metadata": {},
          "execution_count": 15
        }
      ],
      "source": [
        "# example\n",
        "trainX[5]"
      ]
    },
    {
      "cell_type": "code",
      "execution_count": 16,
      "metadata": {
        "id": "UlcOOOeFR-Y3"
      },
      "outputs": [],
      "source": [
        "import tensorflow as tf\n",
        "trainX_tensor = tf.convert_to_tensor(trainX, dtype=tf.int32)\n",
        "trainY_tensor = tf.convert_to_tensor(trainY, dtype=tf.int32)\n",
        "testX_tensor = tf.convert_to_tensor(testX, dtype=tf.int32)\n",
        "testY_tensor = tf.convert_to_tensor(testY, dtype=tf.int32)"
      ]
    },
    {
      "cell_type": "code",
      "execution_count": 25,
      "metadata": {
        "id": "df3b4f6a"
      },
      "outputs": [],
      "source": [
        "def define_improved_model(in_vocab, out_vocab, in_timesteps, out_timesteps, units):\n",
        "    # Encoder\n",
        "    encoder_inputs = Input(shape=(in_timesteps,))\n",
        "\n",
        "    # Embedding layer with dropout\n",
        "    emb = Embedding(in_vocab, units, input_length=in_timesteps, mask_zero=True)(encoder_inputs)\n",
        "    emb = Dropout(0.2)(emb)\n",
        "\n",
        "    # Bidirectional LSTM layers with residual connections\n",
        "    encoder_lstm1 = Bidirectional(LSTM(units, return_sequences=True))(emb)\n",
        "    encoder_lstm1 = LayerNormalization()(encoder_lstm1)\n",
        "    encoder_lstm1 = Dropout(0.2)(encoder_lstm1)\n",
        "\n",
        "    encoder_lstm2 = Bidirectional(LSTM(units, return_sequences=True))(encoder_lstm1)\n",
        "    encoder_lstm2 = LayerNormalization()(encoder_lstm2)\n",
        "    encoder_lstm2 = Dropout(0.2)(encoder_lstm2)\n",
        "\n",
        "    # Final encoder LSTM\n",
        "    encoder_lstm3 = Bidirectional(LSTM(units))(encoder_lstm2)\n",
        "    encoder_lstm3 = LayerNormalization()(encoder_lstm3)\n",
        "\n",
        "    # Decoder\n",
        "    decoder = RepeatVector(out_timesteps)(encoder_lstm3)\n",
        "\n",
        "    # Decoder LSTM layers\n",
        "    decoder = LSTM(units*2, return_sequences=True)(decoder)\n",
        "    decoder = LayerNormalization()(decoder)\n",
        "    decoder = Dropout(0.2)(decoder)\n",
        "\n",
        "    decoder = LSTM(units*2, return_sequences=True)(decoder)\n",
        "    decoder = LayerNormalization()(decoder)\n",
        "    decoder = Dropout(0.2)(decoder)\n",
        "\n",
        "    # Output layer\n",
        "    outputs = Dense(out_vocab, activation='softmax')(decoder)\n",
        "\n",
        "    # Create model\n",
        "    model = Model(inputs=encoder_inputs, outputs=outputs)\n",
        "\n",
        "    return model"
      ]
    },
    {
      "cell_type": "code",
      "source": [
        "def train_model(model, x_train, y_train, batch_size=64, epochs=50):\n",
        "    callbacks = [\n",
        "        tf.keras.callbacks.EarlyStopping(\n",
        "            monitor='val_loss',\n",
        "            patience=5,\n",
        "            restore_best_weights=True\n",
        "        )\n",
        "    ]\n",
        "    return model.fit(\n",
        "        x_train,\n",
        "        y_train,\n",
        "        batch_size=batch_size,\n",
        "        epochs=epochs,\n",
        "        validation_split=0.2,\n",
        "        callbacks=callbacks\n",
        "    )\n",
        "\n",
        "def compile_model(model):\n",
        "    optimizer = tf.keras.optimizers.Adam(learning_rate=0.001)\n",
        "\n",
        "    model.compile(\n",
        "        optimizer=optimizer,\n",
        "        loss='sparse_categorical_crossentropy',\n",
        "        metrics=['accuracy']\n",
        "    )\n",
        "\n",
        "    return model"
      ],
      "metadata": {
        "id": "B2AuIJ_eYtVS"
      },
      "execution_count": 33,
      "outputs": []
    },
    {
      "cell_type": "code",
      "execution_count": 34,
      "metadata": {
        "colab": {
          "base_uri": "https://localhost:8080/"
        },
        "id": "f7bbbb16",
        "outputId": "083c237e-764b-4f58-b20a-0e0d13d6055d"
      },
      "outputs": [
        {
          "output_type": "stream",
          "name": "stderr",
          "text": [
            "/usr/local/lib/python3.10/dist-packages/keras/src/layers/core/embedding.py:90: UserWarning: Argument `input_length` is deprecated. Just remove it.\n",
            "  warnings.warn(\n"
          ]
        },
        {
          "output_type": "stream",
          "name": "stdout",
          "text": [
            "Epoch 1/50\n",
            "\u001b[1m498/498\u001b[0m \u001b[32m━━━━━━━━━━━━━━━━━━━━\u001b[0m\u001b[37m\u001b[0m \u001b[1m76s\u001b[0m 131ms/step - accuracy: 0.5977 - loss: 2.9370 - val_accuracy: 0.6361 - val_loss: 2.3546\n",
            "Epoch 2/50\n",
            "\u001b[1m498/498\u001b[0m \u001b[32m━━━━━━━━━━━━━━━━━━━━\u001b[0m\u001b[37m\u001b[0m \u001b[1m64s\u001b[0m 129ms/step - accuracy: 0.6429 - loss: 2.2668 - val_accuracy: 0.6682 - val_loss: 2.0884\n",
            "Epoch 3/50\n",
            "\u001b[1m498/498\u001b[0m \u001b[32m━━━━━━━━━━━━━━━━━━━━\u001b[0m\u001b[37m\u001b[0m \u001b[1m82s\u001b[0m 129ms/step - accuracy: 0.6750 - loss: 1.9522 - val_accuracy: 0.6938 - val_loss: 1.8700\n",
            "Epoch 4/50\n",
            "\u001b[1m498/498\u001b[0m \u001b[32m━━━━━━━━━━━━━━━━━━━━\u001b[0m\u001b[37m\u001b[0m \u001b[1m64s\u001b[0m 128ms/step - accuracy: 0.7012 - loss: 1.6826 - val_accuracy: 0.7080 - val_loss: 1.7237\n",
            "Epoch 5/50\n",
            "\u001b[1m498/498\u001b[0m \u001b[32m━━━━━━━━━━━━━━━━━━━━\u001b[0m\u001b[37m\u001b[0m \u001b[1m82s\u001b[0m 129ms/step - accuracy: 0.7177 - loss: 1.4887 - val_accuracy: 0.7200 - val_loss: 1.6317\n",
            "Epoch 6/50\n",
            "\u001b[1m498/498\u001b[0m \u001b[32m━━━━━━━━━━━━━━━━━━━━\u001b[0m\u001b[37m\u001b[0m \u001b[1m82s\u001b[0m 129ms/step - accuracy: 0.7324 - loss: 1.3251 - val_accuracy: 0.7286 - val_loss: 1.5582\n",
            "Epoch 7/50\n",
            "\u001b[1m498/498\u001b[0m \u001b[32m━━━━━━━━━━━━━━━━━━━━\u001b[0m\u001b[37m\u001b[0m \u001b[1m82s\u001b[0m 128ms/step - accuracy: 0.7442 - loss: 1.2020 - val_accuracy: 0.7372 - val_loss: 1.5150\n",
            "Epoch 8/50\n",
            "\u001b[1m498/498\u001b[0m \u001b[32m━━━━━━━━━━━━━━━━━━━━\u001b[0m\u001b[37m\u001b[0m \u001b[1m64s\u001b[0m 128ms/step - accuracy: 0.7606 - loss: 1.0731 - val_accuracy: 0.7413 - val_loss: 1.4693\n",
            "Epoch 9/50\n",
            "\u001b[1m498/498\u001b[0m \u001b[32m━━━━━━━━━━━━━━━━━━━━\u001b[0m\u001b[37m\u001b[0m \u001b[1m83s\u001b[0m 130ms/step - accuracy: 0.7708 - loss: 0.9833 - val_accuracy: 0.7473 - val_loss: 1.4381\n",
            "Epoch 10/50\n",
            "\u001b[1m498/498\u001b[0m \u001b[32m━━━━━━━━━━━━━━━━━━━━\u001b[0m\u001b[37m\u001b[0m \u001b[1m81s\u001b[0m 129ms/step - accuracy: 0.7819 - loss: 0.9032 - val_accuracy: 0.7490 - val_loss: 1.4247\n",
            "Epoch 11/50\n",
            "\u001b[1m498/498\u001b[0m \u001b[32m━━━━━━━━━━━━━━━━━━━━\u001b[0m\u001b[37m\u001b[0m \u001b[1m82s\u001b[0m 128ms/step - accuracy: 0.7944 - loss: 0.8220 - val_accuracy: 0.7564 - val_loss: 1.4100\n",
            "Epoch 12/50\n",
            "\u001b[1m498/498\u001b[0m \u001b[32m━━━━━━━━━━━━━━━━━━━━\u001b[0m\u001b[37m\u001b[0m \u001b[1m82s\u001b[0m 128ms/step - accuracy: 0.8059 - loss: 0.7547 - val_accuracy: 0.7600 - val_loss: 1.4045\n",
            "Epoch 13/50\n",
            "\u001b[1m498/498\u001b[0m \u001b[32m━━━━━━━━━━━━━━━━━━━━\u001b[0m\u001b[37m\u001b[0m \u001b[1m63s\u001b[0m 127ms/step - accuracy: 0.8202 - loss: 0.6825 - val_accuracy: 0.7618 - val_loss: 1.3981\n",
            "Epoch 14/50\n",
            "\u001b[1m498/498\u001b[0m \u001b[32m━━━━━━━━━━━━━━━━━━━━\u001b[0m\u001b[37m\u001b[0m \u001b[1m82s\u001b[0m 128ms/step - accuracy: 0.8284 - loss: 0.6362 - val_accuracy: 0.7656 - val_loss: 1.4028\n",
            "Epoch 15/50\n",
            "\u001b[1m498/498\u001b[0m \u001b[32m━━━━━━━━━━━━━━━━━━━━\u001b[0m\u001b[37m\u001b[0m \u001b[1m82s\u001b[0m 128ms/step - accuracy: 0.8379 - loss: 0.5903 - val_accuracy: 0.7666 - val_loss: 1.3989\n",
            "Epoch 16/50\n",
            "\u001b[1m498/498\u001b[0m \u001b[32m━━━━━━━━━━━━━━━━━━━━\u001b[0m\u001b[37m\u001b[0m \u001b[1m82s\u001b[0m 128ms/step - accuracy: 0.8473 - loss: 0.5432 - val_accuracy: 0.7700 - val_loss: 1.4161\n",
            "Epoch 17/50\n",
            "\u001b[1m498/498\u001b[0m \u001b[32m━━━━━━━━━━━━━━━━━━━━\u001b[0m\u001b[37m\u001b[0m \u001b[1m82s\u001b[0m 128ms/step - accuracy: 0.8583 - loss: 0.4949 - val_accuracy: 0.7711 - val_loss: 1.4334\n",
            "Epoch 18/50\n",
            "\u001b[1m498/498\u001b[0m \u001b[32m━━━━━━━━━━━━━━━━━━━━\u001b[0m\u001b[37m\u001b[0m \u001b[1m63s\u001b[0m 127ms/step - accuracy: 0.8646 - loss: 0.4674 - val_accuracy: 0.7717 - val_loss: 1.4499\n"
          ]
        }
      ],
      "source": [
        "# Create and compile model\n",
        "model = define_improved_model(\n",
        "    in_vocab=deu_vocab_size,\n",
        "    out_vocab=eng_vocab_size,\n",
        "    in_timesteps=deu_length,\n",
        "    out_timesteps=eng_length,\n",
        "    units=512\n",
        ")\n",
        "model = compile_model(model)\n",
        "\n",
        "# Train model\n",
        "history = train_model(model, trainX, trainY)"
      ]
    },
    {
      "cell_type": "code",
      "execution_count": 35,
      "metadata": {
        "id": "40d694d4",
        "colab": {
          "base_uri": "https://localhost:8080/",
          "height": 430
        },
        "outputId": "a40f05a1-1ee5-423d-a62f-bffa132f939f"
      },
      "outputs": [
        {
          "output_type": "display_data",
          "data": {
            "text/plain": [
              "<Figure size 640x480 with 1 Axes>"
            ],
            "image/png": "[encoded data removed]"
          },
          "metadata": {}
        }
      ],
      "source": [
        "plt.plot(history.history['loss'])\n",
        "plt.plot(history.history['val_loss'])\n",
        "plt.legend(['train','validation'])\n",
        "plt.show()"
      ]
    },
    {
      "cell_type": "code",
      "execution_count": 36,
      "metadata": {
        "id": "5028d44d",
        "colab": {
          "base_uri": "https://localhost:8080/"
        },
        "outputId": "0d93a198-7cf1-49c1-e7d7-464e3a4100eb"
      },
      "outputs": [
        {
          "output_type": "stream",
          "name": "stdout",
          "text": [
            "\u001b[1m311/311\u001b[0m \u001b[32m━━━━━━━━━━━━━━━━━━━━\u001b[0m\u001b[37m\u001b[0m \u001b[1m9s\u001b[0m 27ms/step\n"
          ]
        }
      ],
      "source": [
        "# Use the predict method to get the probabilities\n",
        "preds_prob = model.predict(testX.reshape((testX.shape[0], testX.shape[1])))\n",
        "\n",
        "# Convert probabilities to class predictions\n",
        "preds = np.argmax(preds_prob, axis=-1)  # Get the index of the max probability for each sample"
      ]
    },
    {
      "cell_type": "code",
      "execution_count": 37,
      "metadata": {
        "id": "6350f778"
      },
      "outputs": [],
      "source": [
        "# Create a reverse dictionary for faster lookup\n",
        "index_word = {index: word for word, index in eng_tokenizer.word_index.items()}\n",
        "\n",
        "def get_word(n):\n",
        "    # Return the word corresponding to the index n directly\n",
        "    return index_word.get(n, None)\n",
        "\n",
        "preds_text = []\n",
        "\n",
        "# Iterate over each sequence in preds\n",
        "for seq in preds:\n",
        "    temp = []\n",
        "    previous_word = None\n",
        "    for j in range(len(seq)):\n",
        "        current_word = get_word(seq[j])  # Get the word for the predicted index\n",
        "\n",
        "        if current_word and current_word != previous_word:  # Append if it's not None and different from the previous\n",
        "            temp.append(current_word)\n",
        "        previous_word = current_word  # Update previous_word\n",
        "\n",
        "    preds_text.append(' '.join(temp))  # Join the list into a single string"
      ]
    },
    {
      "cell_type": "code",
      "execution_count": 38,
      "metadata": {
        "id": "5d09acde"
      },
      "outputs": [],
      "source": [
        "pred_df = pd.DataFrame({'actual' : test[:,0], 'predicted' : preds_text})"
      ]
    },
    {
      "cell_type": "code",
      "execution_count": 40,
      "metadata": {
        "id": "d3967440",
        "colab": {
          "base_uri": "https://localhost:8080/",
          "height": 519
        },
        "outputId": "1f994038-c611-4244-a118-9de0b3094500"
      },
      "outputs": [
        {
          "output_type": "execute_result",
          "data": {
            "text/plain": [
              "                   actual             predicted\n",
              "16    does tom eat grapes       did tom eat too\n",
              "3687   im not really sick    im not really sick\n",
              "3739      i cant stand it  i dont wear funerals\n",
              "5784  how deep is it here    how bad is it here\n",
              "7507         thats my cat        this is my cat\n",
              "96             its urgent     its disappointing\n",
              "4434  i bet you know this    i know you do that\n",
              "3906       its time to go         we have to go\n",
              "4841  did tom lie to mary      did tom ask mary\n",
              "5258     im just watching           im not dead\n",
              "3456    the lovers kissed          they started\n",
              "8626        can i see too   can i pay something\n",
              "3960   tom wasnt prepared    tom wasnt prepared\n",
              "2878      tom was writing               tom had\n",
              "9689      toms dog bit me     toms dog bit come"
            ],
            "text/html": [
              "\n",
              "  <div id=\"df-d80f37a4-fbe2-437b-bd1d-f79e9fe38d5c\" class=\"colab-df-container\">\n",
              "    <div>\n",
              "<style scoped>\n",
              "    .dataframe tbody tr th:only-of-type {\n",
              "        vertical-align: middle;\n",
              "    }\n",
              "\n",
              "    .dataframe tbody tr th {\n",
              "        vertical-align: top;\n",
              "    }\n",
              "\n",
              "    .dataframe thead th {\n",
              "        text-align: right;\n",
              "    }\n",
              "</style>\n",
              "<table border=\"1\" class=\"dataframe\">\n",
              "  <thead>\n",
              "    <tr style=\"text-align: right;\">\n",
              "      <th></th>\n",
              "      <th>actual</th>\n",
              "      <th>predicted</th>\n",
              "    </tr>\n",
              "  </thead>\n",
              "  <tbody>\n",
              "    <tr>\n",
              "      <th>16</th>\n",
              "      <td>does tom eat grapes</td>\n",
              "      <td>did tom eat too</td>\n",
              "    </tr>\n",
              "    <tr>\n",
              "      <th>3687</th>\n",
              "      <td>im not really sick</td>\n",
              "      <td>im not really sick</td>\n",
              "    </tr>\n",
              "    <tr>\n",
              "      <th>3739</th>\n",
              "      <td>i cant stand it</td>\n",
              "      <td>i dont wear funerals</td>\n",
              "    </tr>\n",
              "    <tr>\n",
              "      <th>5784</th>\n",
              "      <td>how deep is it here</td>\n",
              "      <td>how bad is it here</td>\n",
              "    </tr>\n",
              "    <tr>\n",
              "      <th>7507</th>\n",
              "      <td>thats my cat</td>\n",
              "      <td>this is my cat</td>\n",
              "    </tr>\n",
              "    <tr>\n",
              "      <th>96</th>\n",
              "      <td>its urgent</td>\n",
              "      <td>its disappointing</td>\n",
              "    </tr>\n",
              "    <tr>\n",
              "      <th>4434</th>\n",
              "      <td>i bet you know this</td>\n",
              "      <td>i know you do that</td>\n",
              "    </tr>\n",
              "    <tr>\n",
              "      <th>3906</th>\n",
              "      <td>its time to go</td>\n",
              "      <td>we have to go</td>\n",
              "    </tr>\n",
              "    <tr>\n",
              "      <th>4841</th>\n",
              "      <td>did tom lie to mary</td>\n",
              "      <td>did tom ask mary</td>\n",
              "    </tr>\n",
              "    <tr>\n",
              "      <th>5258</th>\n",
              "      <td>im just watching</td>\n",
              "      <td>im not dead</td>\n",
              "    </tr>\n",
              "    <tr>\n",
              "      <th>3456</th>\n",
              "      <td>the lovers kissed</td>\n",
              "      <td>they started</td>\n",
              "    </tr>\n",
              "    <tr>\n",
              "      <th>8626</th>\n",
              "      <td>can i see too</td>\n",
              "      <td>can i pay something</td>\n",
              "    </tr>\n",
              "    <tr>\n",
              "      <th>3960</th>\n",
              "      <td>tom wasnt prepared</td>\n",
              "      <td>tom wasnt prepared</td>\n",
              "    </tr>\n",
              "    <tr>\n",
              "      <th>2878</th>\n",
              "      <td>tom was writing</td>\n",
              "      <td>tom had</td>\n",
              "    </tr>\n",
              "    <tr>\n",
              "      <th>9689</th>\n",
              "      <td>toms dog bit me</td>\n",
              "      <td>toms dog bit come</td>\n",
              "    </tr>\n",
              "  </tbody>\n",
              "</table>\n",
              "</div>\n",
              "    <div class=\"colab-df-buttons\">\n",
              "      \n",
              "  <div class=\"colab-df-container\">\n",
              "    <button class=\"colab-df-convert\" onclick=\"convertToInteractive('df-d80f37a4-fbe2-437b-bd1d-f79e9fe38d5c')\"\n",
              "            title=\"Convert this dataframe to an interactive table.\"\n",
              "            style=\"display:none;\">\n",
              "      \n",
              "  <svg xmlns=\"http://www.w3.org/2000/svg\" height=\"24px\" viewBox=\"0 -960 960 960\">\n",
              "    <path d=\"M120-120v-720h720v720H120Zm60-500h600v-160H180v160Zm220 220h160v-160H400v160Zm0 220h160v-160H400v160ZM180-400h160v-160H180v160Zm440 0h160v-160H620v160ZM180-180h160v-160H180v160Zm440 0h160v-160H620v160Z\"/>\n",
              "  </svg>\n",
              "    </button>\n",
              "    \n",
              "  <style>\n",
              "    .colab-df-container {\n",
              "      display:flex;\n",
              "      gap: 12px;\n",
              "    }\n",
              "\n",
              "    .colab-df-convert {\n",
              "      background-color: #E8F0FE;\n",
              "      border: none;\n",
              "      border-radius: 50%;\n",
              "      cursor: pointer;\n",
              "      display: none;\n",
              "      fill: #1967D2;\n",
              "      height: 32px;\n",
              "      padding: 0 0 0 0;\n",
              "      width: 32px;\n",
              "    }\n",
              "\n",
              "    .colab-df-convert:hover {\n",
              "      background-color: #E2EBFA;\n",
              "      box-shadow: 0px 1px 2px rgba(60, 64, 67, 0.3), 0px 1px 3px 1px rgba(60, 64, 67, 0.15);\n",
              "      fill: #174EA6;\n",
              "    }\n",
              "\n",
              "    .colab-df-buttons div {\n",
              "      margin-bottom: 4px;\n",
              "    }\n",
              "\n",
              "    [theme=dark] .colab-df-convert {\n",
              "      background-color: #3B4455;\n",
              "      fill: #D2E3FC;\n",
              "    }\n",
              "\n",
              "    [theme=dark] .colab-df-convert:hover {\n",
              "      background-color: #434B5C;\n",
              "      box-shadow: 0px 1px 3px 1px rgba(0, 0, 0, 0.15);\n",
              "      filter: drop-shadow(0px 1px 2px rgba(0, 0, 0, 0.3));\n",
              "      fill: #FFFFFF;\n",
              "    }\n",
              "  </style>\n",
              "\n",
              "    <script>\n",
              "      const buttonEl =\n",
              "        document.querySelector('#df-d80f37a4-fbe2-437b-bd1d-f79e9fe38d5c button.colab-df-convert');\n",
              "      buttonEl.style.display =\n",
              "        google.colab.kernel.accessAllowed ? 'block' : 'none';\n",
              "\n",
              "      async function convertToInteractive(key) {\n",
              "        const element = document.querySelector('#df-d80f37a4-fbe2-437b-bd1d-f79e9fe38d5c');\n",
              "        const dataTable =\n",
              "          await google.colab.kernel.invokeFunction('convertToInteractive',\n",
              "                                                    [key], {});\n",
              "        if (!dataTable) return;\n",
              "\n",
              "        const docLinkHtml = 'Like what you see? Visit the ' +\n",
              "          '<a target=\"_blank\" href=https://colab.research.google.com/notebooks/data_table.ipynb>data table notebook</a>'\n",
              "          + ' to learn more about interactive tables.';\n",
              "        element.innerHTML = '';\n",
              "        dataTable['output_type'] = 'display_data';\n",
              "        await google.colab.output.renderOutput(dataTable, element);\n",
              "        const docLink = document.createElement('div');\n",
              "        docLink.innerHTML = docLinkHtml;\n",
              "        element.appendChild(docLink);\n",
              "      }\n",
              "    </script>\n",
              "  </div>\n",
              "  \n",
              "    </div>\n",
              "  </div>\n",
              "  "
            ]
          },
          "metadata": {},
          "execution_count": 40
        }
      ],
      "source": [
        "# print 15 rows randomly\n",
        "pred_df.sample(15)"
      ]
    }
  ],
  "metadata": {
    "accelerator": "GPU",
    "colab": {
      "gpuType": "T4",
      "provenance": []
    },
    "kernelspec": {
      "display_name": "Python 3",
      "name": "python3"
    },
    "language_info": {
      "name": "python"
    }
  },
  "nbformat": 4,
  "nbformat_minor": 0
}